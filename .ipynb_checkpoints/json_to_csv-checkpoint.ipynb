{
 "cells": [
  {
   "cell_type": "code",
   "execution_count": null,
   "id": "ff630ce8-f471-4fcf-a1bc-66554e41673e",
   "metadata": {},
   "outputs": [],
   "source": [
    "import pandas\n",
    "import json\n",
    "from os import listdir"
   ]
  },
  {
   "cell_type": "code",
   "execution_count": null,
   "id": "f12461b6-228d-4596-900b-e37bdece2bca",
   "metadata": {},
   "outputs": [],
   "source": [
    "# read all unit jsons\n",
    "units_list = []\n",
    "root_directory = '../mul-archive/archive/'\n",
    "for unit_file in listdir(root_directory):\n",
    "    with open(root_directory + unit_file) as unit_json:\n",
    "        units_list.append(json.load(unit_json))\n",
    "\n",
    "# covert to dataframe\n",
    "units_df = pandas.DataFrame.from_records(units_list)\n",
    "\n",
    "# write out\n",
    "units_df.to_csv('units.csv')"
   ]
  },
  {
   "cell_type": "code",
   "execution_count": null,
   "id": "bdb050a2-9e93-4e47-86af-3a77099cd785",
   "metadata": {},
   "outputs": [],
   "source": []
  }
 ],
 "metadata": {
  "kernelspec": {
   "display_name": "Python 3 (ipykernel)",
   "language": "python",
   "name": "python3"
  },
  "language_info": {
   "codemirror_mode": {
    "name": "ipython",
    "version": 3
   },
   "file_extension": ".py",
   "mimetype": "text/x-python",
   "name": "python",
   "nbconvert_exporter": "python",
   "pygments_lexer": "ipython3",
   "version": "3.11.6"
  }
 },
 "nbformat": 4,
 "nbformat_minor": 5
}
